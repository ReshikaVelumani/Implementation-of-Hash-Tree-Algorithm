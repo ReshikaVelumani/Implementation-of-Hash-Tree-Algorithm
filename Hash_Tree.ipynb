{
 "cells": [
  {
   "cell_type": "code",
   "execution_count": 1,
   "metadata": {},
   "outputs": [],
   "source": [
    "import csv\n",
    "#Input data as list\n",
    "data=[1,2,4],[1,2,9],[1,3,5],[1,3,9],[1,4,7],[1,5,8],[1,6,7],[1,7,9],[1,8,9],[2,3,5],[2,4,7],[2,5,6],[2,5,7],[2,5,8],[2,6,7],[2,6,8],[2,6,9],[2,7,8],[3,4,5],[3,4,7],[3,5,7],[3,5,8],[3,6,8],[3,7,9],[3,8,9],[4,5,7],[4,5,8],[4,6,7],[4,6,9],[4,7,8],[5,6,7],[5,7,9],[5,8,9],[6,7,8],[6,7,9]"
   ]
  },
  {
   "cell_type": "code",
   "execution_count": 2,
   "metadata": {},
   "outputs": [],
   "source": [
    "#Node defintion\n",
    "class DNode:\n",
    "    def __init__(self):\n",
    "        self.children = {} #Holds the links to the children associated to the node\n",
    "        self.isLeaf = True # Default. Assume the node is a leaf node\n",
    "        self.data = [] #List to hold the item sets\n",
    "        self.depth = 0 #Meta data to know the depth of the node in the hierarchy"
   ]
  },
  {
   "cell_type": "code",
   "execution_count": 3,
   "metadata": {},
   "outputs": [],
   "source": [
    "#mod of 3 will result in 0, 1, 2 which determines the direction. \n",
    "#This is added for ease of code understanding and debugging\n",
    "child_val = {1: \"left\", 2: \"middle\", 0:\"right\"}"
   ]
  },
  {
   "cell_type": "code",
   "execution_count": 4,
   "metadata": {},
   "outputs": [],
   "source": [
    "# recursively generates the hash tree\n",
    "def generate_hash_tree(data, node):\n",
    "    hash_val = data[node.depth] % 3 \n",
    "    if child_val[hash_val] in node.children:\n",
    "        cur_node = node.children[child_val[hash_val]]# setting the children node for the current node\n",
    "        if cur_node.isLeaf == False:# if the current node has no leaf generate a node\n",
    "            generate_hash_tree(data, cur_node)\n",
    "            return\n",
    "        #Check if the node is full, if not append the data\n",
    "        if len(cur_node.data) < var_max_items:\n",
    "            cur_node.data.append(data)\n",
    "        else:#Node is full, then mark the current node leaf property as false\n",
    "            cur_node.isLeaf = False\n",
    "            # Move all the items to new branches\n",
    "            for item in cur_node.data:\n",
    "                generate_hash_tree(item, cur_node)\n",
    "            cur_node.data.clear()\n",
    "            generate_hash_tree(data, cur_node)\n",
    "    else:\n",
    "        #No Child node found then create the child node and update the parent node with \n",
    "        #child node\n",
    "        cur_node = DNode()\n",
    "        cur_node.depth = node.depth + 1\n",
    "        cur_node.data.append(data)\n",
    "        node.children.update({child_val[hash_val] : cur_node})"
   ]
  },
  {
   "cell_type": "code",
   "execution_count": 5,
   "metadata": {},
   "outputs": [],
   "source": [
    "#Create the root node\n",
    "root = DNode()\n",
    "root.isLeaf = False\n",
    "\n",
    "#Configuration Item, maximum item sets in the node\n",
    "var_max_items = 3"
   ]
  },
  {
   "cell_type": "code",
   "execution_count": 6,
   "metadata": {},
   "outputs": [],
   "source": [
    "# Call the hash tree generator for each of the list\n",
    "for item in data:\n",
    "    generate_hash_tree(item, root)"
   ]
  },
  {
   "cell_type": "code",
   "execution_count": 7,
   "metadata": {},
   "outputs": [],
   "source": [
    "#prints the tree hierarchically by calling this function recursively\n",
    "def print_result(node):\n",
    "    \n",
    "    if (node.depth ==0):\n",
    "        result = ['Root']\n",
    "    else:\n",
    "        result=[]\n",
    "    if node.isLeaf == True:\n",
    "        return node.data\n",
    "       \n",
    "    else:\n",
    "        if \"left\" in node.children:\n",
    "            result += [print_result(node.children[\"left\"])]\n",
    "        if \"middle\" in node.children:\n",
    "            result += [print_result(node.children[\"middle\"])]\n",
    "        if \"right\" in node.children:   \n",
    "            result += [print_result(node.children[\"right\"])]\n",
    "        return result"
   ]
  },
  {
   "cell_type": "code",
   "execution_count": 8,
   "metadata": {},
   "outputs": [
    {
     "data": {
      "text/plain": [
       "['Root',\n",
       " [[[1, 4, 7], [1, 7, 9], [4, 7, 8]],\n",
       "  [[[1, 2, 4], [4, 5, 7]], [[1, 5, 8], [4, 5, 8]], [[1, 2, 9], [1, 8, 9]]],\n",
       "  [[[1, 6, 7], [4, 6, 7]], [[1, 3, 5]], [[1, 3, 9], [4, 6, 9]]]],\n",
       " [[[2, 4, 7], [2, 7, 8], [5, 7, 9]],\n",
       "  [[[2, 5, 7]], [[2, 5, 8]], [[2, 5, 6], [5, 8, 9]]],\n",
       "  [[[2, 6, 7], [5, 6, 7]], [[2, 3, 5], [2, 6, 8]], [[2, 6, 9]]]],\n",
       " [[[[3, 4, 7]], [[3, 4, 5], [6, 7, 8]], [[3, 7, 9], [6, 7, 9]]],\n",
       "  [[3, 5, 7], [3, 5, 8], [3, 8, 9]],\n",
       "  [[3, 6, 8]]]]"
      ]
     },
     "execution_count": 8,
     "metadata": {},
     "output_type": "execute_result"
    }
   ],
   "source": [
    "print_result(root)"
   ]
  },
  {
   "cell_type": "code",
   "execution_count": null,
   "metadata": {},
   "outputs": [],
   "source": []
  }
 ],
 "metadata": {
  "kernelspec": {
   "display_name": "Python 3",
   "language": "python",
   "name": "python3"
  },
  "language_info": {
   "codemirror_mode": {
    "name": "ipython",
    "version": 3
   },
   "file_extension": ".py",
   "mimetype": "text/x-python",
   "name": "python",
   "nbconvert_exporter": "python",
   "pygments_lexer": "ipython3",
   "version": "3.6.6"
  }
 },
 "nbformat": 4,
 "nbformat_minor": 2
}
